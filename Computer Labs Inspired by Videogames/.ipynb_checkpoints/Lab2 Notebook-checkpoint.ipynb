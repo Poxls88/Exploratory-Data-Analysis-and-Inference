{
 "cells": [
  {
   "cell_type": "markdown",
   "metadata": {},
   "source": [
    "# Your working directory contains external data files and code dependencies.#"
   ]
  },
  {
   "cell_type": "code",
   "execution_count": 2,
   "metadata": {},
   "outputs": [
    {
     "data": {
      "text/html": [
       "'C:/Users/vergevaliant19/Exploratory Data Analysis and Inference'"
      ],
      "text/latex": [
       "'C:/Users/vergevaliant19/Exploratory Data Analysis and Inference'"
      ],
      "text/markdown": [
       "'C:/Users/vergevaliant19/Exploratory Data Analysis and Inference'"
      ],
      "text/plain": [
       "[1] \"C:/Users/vergevaliant19/Exploratory Data Analysis and Inference\""
      ]
     },
     "metadata": {},
     "output_type": "display_data"
    }
   ],
   "source": [
    "getwd()\n",
    "#r setwd() 'C:/Users/vergevaliant19/Miniconda3/envs/R_189'"
   ]
  },
  {
   "cell_type": "markdown",
   "metadata": {},
   "source": [
    "## Load Dataset"
   ]
  },
  {
   "cell_type": "code",
   "execution_count": null,
   "metadata": {},
   "outputs": [],
   "source": [
    "data = read.table(\"\")"
   ]
  }
 ],
 "metadata": {
  "kernelspec": {
   "display_name": "R",
   "language": "R",
   "name": "ir"
  },
  "language_info": {
   "codemirror_mode": "r",
   "file_extension": ".r",
   "mimetype": "text/x-r-source",
   "name": "R",
   "pygments_lexer": "r",
   "version": "3.4.3"
  }
 },
 "nbformat": 4,
 "nbformat_minor": 2
}
